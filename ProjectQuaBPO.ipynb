{
 "cells": [
  {
   "cell_type": "markdown",
   "id": "0fb05d3d-819b-4d9e-93e6-5de2aabff127",
   "metadata": {},
   "source": [
    "# Survey Project\n",
    "### Imports needed"
   ]
  },
  {
   "cell_type": "code",
   "execution_count": 120,
   "id": "aa9e0ad7-137f-4b7d-89ed-48aef1d9519c",
   "metadata": {},
   "outputs": [],
   "source": [
    "import numpy as np\n",
    "import pandas as pd\n",
    "import matplotlib.pyplot as plt\n",
    "import seaborn as sns"
   ]
  },
  {
   "cell_type": "code",
   "execution_count": 121,
   "id": "d2bf1e1d-5415-4f46-accb-ea76ec0f8576",
   "metadata": {},
   "outputs": [],
   "source": [
    "sns.set_style('whitegrid')\n",
    "%matplotlib inline"
   ]
  },
  {
   "cell_type": "markdown",
   "id": "727ccc5e-93b1-439e-92aa-c029eff6042f",
   "metadata": {},
   "source": [
    "# Exploratory Data Analysis"
   ]
  },
  {
   "cell_type": "code",
   "execution_count": 122,
   "id": "dfd85588-d9e8-4c50-aff2-31d47e6b0ee7",
   "metadata": {},
   "outputs": [],
   "source": [
    "df = pd.read_excel(r'ASResults24.xlsx', engine='openpyxl', skiprows=[1])"
   ]
  },
  {
   "cell_type": "code",
   "execution_count": 123,
   "id": "e7ced432-4e97-4a04-91d5-cb7929f356c6",
   "metadata": {},
   "outputs": [
    {
     "name": "stdout",
     "output_type": "stream",
     "text": [
      "<class 'pandas.core.frame.DataFrame'>\n",
      "RangeIndex: 22559 entries, 0 to 22558\n",
      "Data columns (total 7 columns):\n",
      " #   Column  Non-Null Count  Dtype         \n",
      "---  ------  --------------  -----         \n",
      " 0   Month   22559 non-null  datetime64[ns]\n",
      " 1   Q2      22081 non-null  object        \n",
      " 2   Q3      21933 non-null  object        \n",
      " 3   Q4      2252 non-null   object        \n",
      " 4   Q5      4054 non-null   object        \n",
      " 5   Q9      19678 non-null  object        \n",
      " 6   Q10     1611 non-null   object        \n",
      "dtypes: datetime64[ns](1), object(6)\n",
      "memory usage: 1.2+ MB\n"
     ]
    }
   ],
   "source": [
    "df.info()"
   ]
  },
  {
   "cell_type": "code",
   "execution_count": 124,
   "id": "96ac52c8-7ea0-4445-9dba-262626892d47",
   "metadata": {},
   "outputs": [
    {
     "data": {
      "text/html": [
       "<div>\n",
       "<style scoped>\n",
       "    .dataframe tbody tr th:only-of-type {\n",
       "        vertical-align: middle;\n",
       "    }\n",
       "\n",
       "    .dataframe tbody tr th {\n",
       "        vertical-align: top;\n",
       "    }\n",
       "\n",
       "    .dataframe thead th {\n",
       "        text-align: right;\n",
       "    }\n",
       "</style>\n",
       "<table border=\"1\" class=\"dataframe\">\n",
       "  <thead>\n",
       "    <tr style=\"text-align: right;\">\n",
       "      <th></th>\n",
       "      <th>Month</th>\n",
       "      <th>Q2</th>\n",
       "      <th>Q3</th>\n",
       "      <th>Q4</th>\n",
       "      <th>Q5</th>\n",
       "      <th>Q9</th>\n",
       "      <th>Q10</th>\n",
       "    </tr>\n",
       "  </thead>\n",
       "  <tbody>\n",
       "    <tr>\n",
       "      <th>0</th>\n",
       "      <td>2024-01-01</td>\n",
       "      <td>Cebu</td>\n",
       "      <td>Somewhat satisfied</td>\n",
       "      <td>NaN</td>\n",
       "      <td>NaN</td>\n",
       "      <td>Somewhat satisfied</td>\n",
       "      <td>NaN</td>\n",
       "    </tr>\n",
       "    <tr>\n",
       "      <th>1</th>\n",
       "      <td>2024-01-01</td>\n",
       "      <td>Bacolod</td>\n",
       "      <td>Extremely satisfied</td>\n",
       "      <td>NaN</td>\n",
       "      <td>NaN</td>\n",
       "      <td>Extremely satisfied</td>\n",
       "      <td>NaN</td>\n",
       "    </tr>\n",
       "    <tr>\n",
       "      <th>2</th>\n",
       "      <td>2024-01-01</td>\n",
       "      <td>Cebu</td>\n",
       "      <td>Neither satisfied nor unsatisfied</td>\n",
       "      <td>NaN</td>\n",
       "      <td>none</td>\n",
       "      <td>Neither satisfied nor unsatisfied</td>\n",
       "      <td>NaN</td>\n",
       "    </tr>\n",
       "    <tr>\n",
       "      <th>3</th>\n",
       "      <td>2024-01-01</td>\n",
       "      <td>Bacolod</td>\n",
       "      <td>Extremely satisfied</td>\n",
       "      <td>NaN</td>\n",
       "      <td>NaN</td>\n",
       "      <td>Somewhat satisfied</td>\n",
       "      <td>NaN</td>\n",
       "    </tr>\n",
       "    <tr>\n",
       "      <th>4</th>\n",
       "      <td>2024-01-01</td>\n",
       "      <td>Bacolod</td>\n",
       "      <td>Extremely satisfied</td>\n",
       "      <td>NaN</td>\n",
       "      <td>NaN</td>\n",
       "      <td>Extremely satisfied</td>\n",
       "      <td>NaN</td>\n",
       "    </tr>\n",
       "  </tbody>\n",
       "</table>\n",
       "</div>"
      ],
      "text/plain": [
       "       Month       Q2                                 Q3   Q4    Q5  \\\n",
       "0 2024-01-01     Cebu                 Somewhat satisfied  NaN   NaN   \n",
       "1 2024-01-01  Bacolod                Extremely satisfied  NaN   NaN   \n",
       "2 2024-01-01     Cebu  Neither satisfied nor unsatisfied  NaN  none   \n",
       "3 2024-01-01  Bacolod                Extremely satisfied  NaN   NaN   \n",
       "4 2024-01-01  Bacolod                Extremely satisfied  NaN   NaN   \n",
       "\n",
       "                                  Q9  Q10  \n",
       "0                 Somewhat satisfied  NaN  \n",
       "1                Extremely satisfied  NaN  \n",
       "2  Neither satisfied nor unsatisfied  NaN  \n",
       "3                 Somewhat satisfied  NaN  \n",
       "4                Extremely satisfied  NaN  "
      ]
     },
     "execution_count": 124,
     "metadata": {},
     "output_type": "execute_result"
    }
   ],
   "source": [
    "df.head()"
   ]
  },
  {
   "cell_type": "markdown",
   "id": "5cd63cc3-8a8e-4404-8046-a9e8048fc856",
   "metadata": {},
   "source": [
    "### Number of people by call center:"
   ]
  },
  {
   "cell_type": "code",
   "execution_count": 125,
   "id": "9168de87-19aa-473c-bbd9-33053513ab4c",
   "metadata": {},
   "outputs": [
    {
     "data": {
      "text/plain": [
       "Q2\n",
       "Cebu            7636\n",
       "Bacolod         7038\n",
       "Dumaguete       4090\n",
       "Guatemala       3016\n",
       "Barranquilla     301\n",
       "Name: count, dtype: int64"
      ]
     },
     "execution_count": 125,
     "metadata": {},
     "output_type": "execute_result"
    }
   ],
   "source": [
    "df['Q2'].value_counts()"
   ]
  },
  {
   "cell_type": "markdown",
   "id": "340b9898-208e-406f-b846-79dfcd4177a8",
   "metadata": {},
   "source": [
    "### How many people answered the survey?"
   ]
  },
  {
   "cell_type": "code",
   "execution_count": 126,
   "id": "16323dbe-a366-4f1c-94aa-8adaa0cd7843",
   "metadata": {},
   "outputs": [
    {
     "name": "stdout",
     "output_type": "stream",
     "text": [
      "<class 'pandas.core.frame.DataFrame'>\n",
      "RangeIndex: 22559 entries, 0 to 22558\n",
      "Data columns (total 7 columns):\n",
      " #   Column  Non-Null Count  Dtype         \n",
      "---  ------  --------------  -----         \n",
      " 0   Month   22559 non-null  datetime64[ns]\n",
      " 1   Q2      22081 non-null  object        \n",
      " 2   Q3      21933 non-null  object        \n",
      " 3   Q4      2252 non-null   object        \n",
      " 4   Q5      4054 non-null   object        \n",
      " 5   Q9      19678 non-null  object        \n",
      " 6   Q10     1611 non-null   object        \n",
      "dtypes: datetime64[ns](1), object(6)\n",
      "memory usage: 1.2+ MB\n"
     ]
    }
   ],
   "source": [
    "df.info()"
   ]
  },
  {
   "cell_type": "markdown",
   "id": "49433617-e760-4a2c-b9df-bbec64555f67",
   "metadata": {},
   "source": [
    "### How many of them were completely satisfied with the experience? From what companies?"
   ]
  },
  {
   "cell_type": "code",
   "execution_count": 127,
   "id": "81d2f024-0de1-4cd8-8990-1e6dc850b6e9",
   "metadata": {},
   "outputs": [
    {
     "data": {
      "text/html": [
       "<div>\n",
       "<style scoped>\n",
       "    .dataframe tbody tr th:only-of-type {\n",
       "        vertical-align: middle;\n",
       "    }\n",
       "\n",
       "    .dataframe tbody tr th {\n",
       "        vertical-align: top;\n",
       "    }\n",
       "\n",
       "    .dataframe thead th {\n",
       "        text-align: right;\n",
       "    }\n",
       "</style>\n",
       "<table border=\"1\" class=\"dataframe\">\n",
       "  <thead>\n",
       "    <tr style=\"text-align: right;\">\n",
       "      <th></th>\n",
       "      <th>Company</th>\n",
       "      <th>Month</th>\n",
       "      <th>Q3</th>\n",
       "      <th>Q4</th>\n",
       "      <th>Q5</th>\n",
       "      <th>Q9</th>\n",
       "      <th>Q10</th>\n",
       "    </tr>\n",
       "  </thead>\n",
       "  <tbody>\n",
       "    <tr>\n",
       "      <th>1</th>\n",
       "      <td>Bacolod</td>\n",
       "      <td>2425</td>\n",
       "      <td>2425</td>\n",
       "      <td>0</td>\n",
       "      <td>0</td>\n",
       "      <td>2423</td>\n",
       "      <td>26</td>\n",
       "    </tr>\n",
       "    <tr>\n",
       "      <th>2</th>\n",
       "      <td>Barranquilla</td>\n",
       "      <td>55</td>\n",
       "      <td>55</td>\n",
       "      <td>0</td>\n",
       "      <td>0</td>\n",
       "      <td>54</td>\n",
       "      <td>1</td>\n",
       "    </tr>\n",
       "    <tr>\n",
       "      <th>3</th>\n",
       "      <td>Cebu</td>\n",
       "      <td>1888</td>\n",
       "      <td>1888</td>\n",
       "      <td>0</td>\n",
       "      <td>0</td>\n",
       "      <td>1886</td>\n",
       "      <td>45</td>\n",
       "    </tr>\n",
       "    <tr>\n",
       "      <th>4</th>\n",
       "      <td>Dumaguete</td>\n",
       "      <td>1200</td>\n",
       "      <td>1200</td>\n",
       "      <td>0</td>\n",
       "      <td>0</td>\n",
       "      <td>1200</td>\n",
       "      <td>44</td>\n",
       "    </tr>\n",
       "    <tr>\n",
       "      <th>5</th>\n",
       "      <td>Guatemala</td>\n",
       "      <td>818</td>\n",
       "      <td>818</td>\n",
       "      <td>0</td>\n",
       "      <td>0</td>\n",
       "      <td>816</td>\n",
       "      <td>25</td>\n",
       "    </tr>\n",
       "  </tbody>\n",
       "</table>\n",
       "</div>"
      ],
      "text/plain": [
       "        Company  Month    Q3  Q4  Q5    Q9  Q10\n",
       "1       Bacolod   2425  2425   0   0  2423   26\n",
       "2  Barranquilla     55    55   0   0    54    1\n",
       "3          Cebu   1888  1888   0   0  1886   45\n",
       "4     Dumaguete   1200  1200   0   0  1200   44\n",
       "5     Guatemala    818   818   0   0   816   25"
      ]
     },
     "execution_count": 127,
     "metadata": {},
     "output_type": "execute_result"
    }
   ],
   "source": [
    "Excelents = df[df['Q3']=='Extremely satisfied'].groupby('Q2').count()\n",
    "Excelents = Excelents.reset_index()\n",
    "Excelents.index += 1\n",
    "Excelents.rename(columns={'Q2':'Company'})"
   ]
  },
  {
   "cell_type": "code",
   "execution_count": 128,
   "id": "2aa22c43-3b67-49a2-98e8-2adddb04878f",
   "metadata": {},
   "outputs": [
    {
     "name": "stdout",
     "output_type": "stream",
     "text": [
      "             Q2  Month    Q3  Q4  Q5    Q9  Q10\n",
      "1       Bacolod   2425  2425   0   0  2423   26\n",
      "2  Barranquilla     55    55   0   0    54    1\n",
      "3          Cebu   1888  1888   0   0  1886   45\n",
      "4     Dumaguete   1200  1200   0   0  1200   44\n",
      "5     Guatemala    818   818   0   0   816   25\n"
     ]
    }
   ],
   "source": [
    "print(Excelents)"
   ]
  },
  {
   "cell_type": "markdown",
   "id": "cdf7c691-c4e8-43f2-be21-ce799c8114c7",
   "metadata": {},
   "source": [
    "### How many of them were completely unsatisfied with the experience? From what companies?"
   ]
  },
  {
   "cell_type": "code",
   "execution_count": 129,
   "id": "7e18672f-c247-463b-8e6b-1c2b067293e9",
   "metadata": {},
   "outputs": [
    {
     "data": {
      "text/html": [
       "<div>\n",
       "<style scoped>\n",
       "    .dataframe tbody tr th:only-of-type {\n",
       "        vertical-align: middle;\n",
       "    }\n",
       "\n",
       "    .dataframe tbody tr th {\n",
       "        vertical-align: top;\n",
       "    }\n",
       "\n",
       "    .dataframe thead th {\n",
       "        text-align: right;\n",
       "    }\n",
       "</style>\n",
       "<table border=\"1\" class=\"dataframe\">\n",
       "  <thead>\n",
       "    <tr style=\"text-align: right;\">\n",
       "      <th></th>\n",
       "      <th>Company</th>\n",
       "      <th>Month</th>\n",
       "      <th>Q3</th>\n",
       "      <th>Q4</th>\n",
       "      <th>Q5</th>\n",
       "      <th>Q9</th>\n",
       "      <th>Q10</th>\n",
       "    </tr>\n",
       "  </thead>\n",
       "  <tbody>\n",
       "    <tr>\n",
       "      <th>1</th>\n",
       "      <td>Bacolod</td>\n",
       "      <td>215</td>\n",
       "      <td>215</td>\n",
       "      <td>209</td>\n",
       "      <td>157</td>\n",
       "      <td>31</td>\n",
       "      <td>14</td>\n",
       "    </tr>\n",
       "    <tr>\n",
       "      <th>2</th>\n",
       "      <td>Barranquilla</td>\n",
       "      <td>31</td>\n",
       "      <td>31</td>\n",
       "      <td>30</td>\n",
       "      <td>25</td>\n",
       "      <td>0</td>\n",
       "      <td>0</td>\n",
       "    </tr>\n",
       "    <tr>\n",
       "      <th>3</th>\n",
       "      <td>Cebu</td>\n",
       "      <td>334</td>\n",
       "      <td>334</td>\n",
       "      <td>328</td>\n",
       "      <td>282</td>\n",
       "      <td>17</td>\n",
       "      <td>12</td>\n",
       "    </tr>\n",
       "    <tr>\n",
       "      <th>4</th>\n",
       "      <td>Dumaguete</td>\n",
       "      <td>97</td>\n",
       "      <td>97</td>\n",
       "      <td>92</td>\n",
       "      <td>80</td>\n",
       "      <td>4</td>\n",
       "      <td>0</td>\n",
       "    </tr>\n",
       "    <tr>\n",
       "      <th>5</th>\n",
       "      <td>Guatemala</td>\n",
       "      <td>117</td>\n",
       "      <td>117</td>\n",
       "      <td>112</td>\n",
       "      <td>101</td>\n",
       "      <td>8</td>\n",
       "      <td>5</td>\n",
       "    </tr>\n",
       "  </tbody>\n",
       "</table>\n",
       "</div>"
      ],
      "text/plain": [
       "        Company  Month   Q3   Q4   Q5  Q9  Q10\n",
       "1       Bacolod    215  215  209  157  31   14\n",
       "2  Barranquilla     31   31   30   25   0    0\n",
       "3          Cebu    334  334  328  282  17   12\n",
       "4     Dumaguete     97   97   92   80   4    0\n",
       "5     Guatemala    117  117  112  101   8    5"
      ]
     },
     "execution_count": 129,
     "metadata": {},
     "output_type": "execute_result"
    }
   ],
   "source": [
    "BadUnsatisfied = df[df['Q3']=='Extremely unsatisfied'].groupby('Q2').count()\n",
    "BadUnsatisfied = BadUnsatisfied.reset_index()\n",
    "BadUnsatisfied.index += 1\n",
    "BadUnsatisfied.rename(columns={'Q2':'Company'})"
   ]
  },
  {
   "cell_type": "code",
   "execution_count": 130,
   "id": "801a1605-5b7b-4259-9dd1-38f7e187e92a",
   "metadata": {},
   "outputs": [
    {
     "name": "stdout",
     "output_type": "stream",
     "text": [
      "             Q2  Month   Q3   Q4   Q5  Q9  Q10\n",
      "1       Bacolod    215  215  209  157  31   14\n",
      "2  Barranquilla     31   31   30   25   0    0\n",
      "3          Cebu    334  334  328  282  17   12\n",
      "4     Dumaguete     97   97   92   80   4    0\n",
      "5     Guatemala    117  117  112  101   8    5\n"
     ]
    }
   ],
   "source": [
    "print(BadUnsatisfied)"
   ]
  },
  {
   "cell_type": "markdown",
   "id": "edfa51bd-29d6-496f-aefd-cc7296509dc9",
   "metadata": {},
   "source": [
    "### What is the general answer for the Q3 and the popular opinion about working in a call center?"
   ]
  },
  {
   "cell_type": "code",
   "execution_count": 131,
   "id": "3de755fa-4dec-4c2b-91ac-4f71f35601e6",
   "metadata": {},
   "outputs": [],
   "source": [
    "answersQ3 = df['Q3']"
   ]
  },
  {
   "cell_type": "code",
   "execution_count": 132,
   "id": "61614bd8-317e-475d-8997-892cdc7457a2",
   "metadata": {},
   "outputs": [
    {
     "data": {
      "text/plain": [
       "Q3\n",
       "Somewhat satisfied                   10406\n",
       "Extremely satisfied                   6386\n",
       "Neither satisfied nor unsatisfied     2843\n",
       "Somewhat unsatisfied                  1504\n",
       "Extremely unsatisfied                  794\n",
       "Name: count, dtype: int64"
      ]
     },
     "execution_count": 132,
     "metadata": {},
     "output_type": "execute_result"
    }
   ],
   "source": [
    "answersQ3.value_counts()"
   ]
  },
  {
   "cell_type": "markdown",
   "id": "a3ed6ed1-8fc0-4530-a90f-afe49b14d4ca",
   "metadata": {},
   "source": [
    "### Which topics (By Definition) are the most frequent for an ex employee recommending to improve?"
   ]
  },
  {
   "cell_type": "code",
   "execution_count": 133,
   "id": "d332774d-ee8c-44a1-8019-f88e4674569b",
   "metadata": {},
   "outputs": [],
   "source": [
    "answersQ4 = df['Q4']"
   ]
  },
  {
   "cell_type": "code",
   "execution_count": 134,
   "id": "42f893e3-5e60-4563-8f69-bdea3bbe57ce",
   "metadata": {},
   "outputs": [
    {
     "data": {
      "text/plain": [
       "Q4\n",
       "Internal - Compensation        340\n",
       "Internal - Management          260\n",
       "Internal - Benefits            248\n",
       "NONE                           138\n",
       "Internal - Work Environment    120\n",
       "Name: count, dtype: int64"
      ]
     },
     "execution_count": 134,
     "metadata": {},
     "output_type": "execute_result"
    }
   ],
   "source": [
    "answersQ4.value_counts().head(5)"
   ]
  },
  {
   "cell_type": "markdown",
   "id": "38b2413c-0f3a-4da6-b8f5-ed0d674a1e9d",
   "metadata": {},
   "source": [
    "### What kind of correlation has the IT support satisfaction with the work experience satisfaction?"
   ]
  },
  {
   "cell_type": "code",
   "execution_count": 135,
   "id": "ec9a675b-9b19-4a82-be03-646c2842ca43",
   "metadata": {},
   "outputs": [
    {
     "data": {
      "text/plain": [
       "Index(['Month', 'Q2', 'Q3', 'Q4', 'Q5', 'Q9', 'Q10'], dtype='object')"
      ]
     },
     "execution_count": 135,
     "metadata": {},
     "output_type": "execute_result"
    }
   ],
   "source": [
    "df.columns"
   ]
  },
  {
   "cell_type": "code",
   "execution_count": 136,
   "id": "6b894204-d8cb-4360-801a-3849a78eda8f",
   "metadata": {},
   "outputs": [],
   "source": [
    "DFr = pd.DataFrame(df['Q3'].value_counts()).reset_index().rename(columns={'count': 'Count Q3', 'Q3':'Satisfaction'})"
   ]
  },
  {
   "cell_type": "code",
   "execution_count": 137,
   "id": "8a28c692-16a5-43da-b7fb-6ec81c204010",
   "metadata": {},
   "outputs": [
    {
     "data": {
      "text/html": [
       "<div>\n",
       "<style scoped>\n",
       "    .dataframe tbody tr th:only-of-type {\n",
       "        vertical-align: middle;\n",
       "    }\n",
       "\n",
       "    .dataframe tbody tr th {\n",
       "        vertical-align: top;\n",
       "    }\n",
       "\n",
       "    .dataframe thead th {\n",
       "        text-align: right;\n",
       "    }\n",
       "</style>\n",
       "<table border=\"1\" class=\"dataframe\">\n",
       "  <thead>\n",
       "    <tr style=\"text-align: right;\">\n",
       "      <th></th>\n",
       "      <th>Satisfaction</th>\n",
       "      <th>Count Q3</th>\n",
       "    </tr>\n",
       "  </thead>\n",
       "  <tbody>\n",
       "    <tr>\n",
       "      <th>0</th>\n",
       "      <td>Somewhat satisfied</td>\n",
       "      <td>10406</td>\n",
       "    </tr>\n",
       "    <tr>\n",
       "      <th>1</th>\n",
       "      <td>Extremely satisfied</td>\n",
       "      <td>6386</td>\n",
       "    </tr>\n",
       "    <tr>\n",
       "      <th>2</th>\n",
       "      <td>Neither satisfied nor unsatisfied</td>\n",
       "      <td>2843</td>\n",
       "    </tr>\n",
       "    <tr>\n",
       "      <th>3</th>\n",
       "      <td>Somewhat unsatisfied</td>\n",
       "      <td>1504</td>\n",
       "    </tr>\n",
       "    <tr>\n",
       "      <th>4</th>\n",
       "      <td>Extremely unsatisfied</td>\n",
       "      <td>794</td>\n",
       "    </tr>\n",
       "  </tbody>\n",
       "</table>\n",
       "</div>"
      ],
      "text/plain": [
       "                        Satisfaction  Count Q3\n",
       "0                 Somewhat satisfied     10406\n",
       "1                Extremely satisfied      6386\n",
       "2  Neither satisfied nor unsatisfied      2843\n",
       "3               Somewhat unsatisfied      1504\n",
       "4              Extremely unsatisfied       794"
      ]
     },
     "execution_count": 137,
     "metadata": {},
     "output_type": "execute_result"
    }
   ],
   "source": [
    "DFr"
   ]
  },
  {
   "cell_type": "code",
   "execution_count": 199,
   "id": "9fc33a9c-aa89-4688-b893-93d48130549f",
   "metadata": {},
   "outputs": [],
   "source": [
    "DFQ9 = pd.DataFrame(df['Q9'].value_counts()).reset_index().rename(columns={'count': 'Count Q9', 'Q9':'Satisfaction'})"
   ]
  },
  {
   "cell_type": "code",
   "execution_count": 200,
   "id": "863ba801-5a08-4c2e-ba5e-f80669dc267c",
   "metadata": {},
   "outputs": [
    {
     "data": {
      "text/html": [
       "<div>\n",
       "<style scoped>\n",
       "    .dataframe tbody tr th:only-of-type {\n",
       "        vertical-align: middle;\n",
       "    }\n",
       "\n",
       "    .dataframe tbody tr th {\n",
       "        vertical-align: top;\n",
       "    }\n",
       "\n",
       "    .dataframe thead th {\n",
       "        text-align: right;\n",
       "    }\n",
       "</style>\n",
       "<table border=\"1\" class=\"dataframe\">\n",
       "  <thead>\n",
       "    <tr style=\"text-align: right;\">\n",
       "      <th></th>\n",
       "      <th>Satisfaction</th>\n",
       "      <th>Count Q9</th>\n",
       "    </tr>\n",
       "  </thead>\n",
       "  <tbody>\n",
       "    <tr>\n",
       "      <th>0</th>\n",
       "      <td>Somewhat satisfied</td>\n",
       "      <td>8959</td>\n",
       "    </tr>\n",
       "    <tr>\n",
       "      <th>1</th>\n",
       "      <td>Extremely satisfied</td>\n",
       "      <td>5125</td>\n",
       "    </tr>\n",
       "    <tr>\n",
       "      <th>2</th>\n",
       "      <td>Neither satisfied nor unsatisfied</td>\n",
       "      <td>3803</td>\n",
       "    </tr>\n",
       "    <tr>\n",
       "      <th>3</th>\n",
       "      <td>Somewhat unsatisfied</td>\n",
       "      <td>1087</td>\n",
       "    </tr>\n",
       "    <tr>\n",
       "      <th>4</th>\n",
       "      <td>Extremely unsatisfied</td>\n",
       "      <td>704</td>\n",
       "    </tr>\n",
       "  </tbody>\n",
       "</table>\n",
       "</div>"
      ],
      "text/plain": [
       "                        Satisfaction  Count Q9\n",
       "0                 Somewhat satisfied      8959\n",
       "1                Extremely satisfied      5125\n",
       "2  Neither satisfied nor unsatisfied      3803\n",
       "3               Somewhat unsatisfied      1087\n",
       "4              Extremely unsatisfied       704"
      ]
     },
     "execution_count": 200,
     "metadata": {},
     "output_type": "execute_result"
    }
   ],
   "source": [
    "DFQ9"
   ]
  },
  {
   "cell_type": "code",
   "execution_count": 201,
   "id": "e4bb21f0-a5f1-4d21-adf1-545616e4d208",
   "metadata": {},
   "outputs": [],
   "source": [
    "result = pd.concat([DFr,DFQ9['Count Q9']], join='inner',axis=1)"
   ]
  },
  {
   "cell_type": "code",
   "execution_count": 202,
   "id": "2cb72be8-4624-4af2-9054-ae6a65b77a08",
   "metadata": {},
   "outputs": [
    {
     "data": {
      "text/html": [
       "<div>\n",
       "<style scoped>\n",
       "    .dataframe tbody tr th:only-of-type {\n",
       "        vertical-align: middle;\n",
       "    }\n",
       "\n",
       "    .dataframe tbody tr th {\n",
       "        vertical-align: top;\n",
       "    }\n",
       "\n",
       "    .dataframe thead th {\n",
       "        text-align: right;\n",
       "    }\n",
       "</style>\n",
       "<table border=\"1\" class=\"dataframe\">\n",
       "  <thead>\n",
       "    <tr style=\"text-align: right;\">\n",
       "      <th></th>\n",
       "      <th>Satisfaction</th>\n",
       "      <th>Count Q3</th>\n",
       "      <th>Count Q9</th>\n",
       "    </tr>\n",
       "  </thead>\n",
       "  <tbody>\n",
       "    <tr>\n",
       "      <th>0</th>\n",
       "      <td>Somewhat satisfied</td>\n",
       "      <td>10406</td>\n",
       "      <td>8959</td>\n",
       "    </tr>\n",
       "    <tr>\n",
       "      <th>1</th>\n",
       "      <td>Extremely satisfied</td>\n",
       "      <td>6386</td>\n",
       "      <td>5125</td>\n",
       "    </tr>\n",
       "    <tr>\n",
       "      <th>2</th>\n",
       "      <td>Neither satisfied nor unsatisfied</td>\n",
       "      <td>2843</td>\n",
       "      <td>3803</td>\n",
       "    </tr>\n",
       "    <tr>\n",
       "      <th>3</th>\n",
       "      <td>Somewhat unsatisfied</td>\n",
       "      <td>1504</td>\n",
       "      <td>1087</td>\n",
       "    </tr>\n",
       "    <tr>\n",
       "      <th>4</th>\n",
       "      <td>Extremely unsatisfied</td>\n",
       "      <td>794</td>\n",
       "      <td>704</td>\n",
       "    </tr>\n",
       "  </tbody>\n",
       "</table>\n",
       "</div>"
      ],
      "text/plain": [
       "                        Satisfaction  Count Q3  Count Q9\n",
       "0                 Somewhat satisfied     10406      8959\n",
       "1                Extremely satisfied      6386      5125\n",
       "2  Neither satisfied nor unsatisfied      2843      3803\n",
       "3               Somewhat unsatisfied      1504      1087\n",
       "4              Extremely unsatisfied       794       704"
      ]
     },
     "metadata": {},
     "output_type": "display_data"
    }
   ],
   "source": [
    "display(result)"
   ]
  },
  {
   "cell_type": "code",
   "execution_count": 203,
   "id": "980ed6cf-d1e7-4edf-bc22-94d7177cc179",
   "metadata": {},
   "outputs": [
    {
     "data": {
      "text/plain": [
       "<seaborn.axisgrid.PairGrid at 0x23cb4ee7c80>"
      ]
     },
     "execution_count": 203,
     "metadata": {},
     "output_type": "execute_result"
    }
   ],
   "source": [
    "sns.pairplot(result)"
   ]
  },
  {
   "cell_type": "code",
   "execution_count": 204,
   "id": "65cb9fd6-9345-4d34-afb3-c5959f036068",
   "metadata": {},
   "outputs": [
    {
     "data": {
      "image/png": "[encoded data removed]",
      "text/plain": [
       "<Figure size 500x500 with 6 Axes>"
      ]
     },
     "metadata": {},
     "output_type": "display_data"
    }
   ],
   "source": [
    "plt.show()"
   ]
  },
  {
   "cell_type": "code",
   "execution_count": 205,
   "id": "181bd840-47e5-474f-becb-257fd1b2f607",
   "metadata": {},
   "outputs": [],
   "source": [
    "result = result.set_index('Satisfaction')"
   ]
  },
  {
   "cell_type": "code",
   "execution_count": 206,
   "id": "9d77ebd0-e786-4642-bb20-ef966e83594d",
   "metadata": {},
   "outputs": [
    {
     "data": {
      "text/html": [
       "<div>\n",
       "<style scoped>\n",
       "    .dataframe tbody tr th:only-of-type {\n",
       "        vertical-align: middle;\n",
       "    }\n",
       "\n",
       "    .dataframe tbody tr th {\n",
       "        vertical-align: top;\n",
       "    }\n",
       "\n",
       "    .dataframe thead th {\n",
       "        text-align: right;\n",
       "    }\n",
       "</style>\n",
       "<table border=\"1\" class=\"dataframe\">\n",
       "  <thead>\n",
       "    <tr style=\"text-align: right;\">\n",
       "      <th></th>\n",
       "      <th>Count Q3</th>\n",
       "      <th>Count Q9</th>\n",
       "    </tr>\n",
       "  </thead>\n",
       "  <tbody>\n",
       "    <tr>\n",
       "      <th>Count Q3</th>\n",
       "      <td>1.000000</td>\n",
       "      <td>0.979789</td>\n",
       "    </tr>\n",
       "    <tr>\n",
       "      <th>Count Q9</th>\n",
       "      <td>0.979789</td>\n",
       "      <td>1.000000</td>\n",
       "    </tr>\n",
       "  </tbody>\n",
       "</table>\n",
       "</div>"
      ],
      "text/plain": [
       "          Count Q3  Count Q9\n",
       "Count Q3  1.000000  0.979789\n",
       "Count Q9  0.979789  1.000000"
      ]
     },
     "execution_count": 206,
     "metadata": {},
     "output_type": "execute_result"
    }
   ],
   "source": [
    "result.corr()"
   ]
  },
  {
   "cell_type": "code",
   "execution_count": 212,
   "id": "39028cf1-7f0e-4e5b-b1e3-1a224672395a",
   "metadata": {},
   "outputs": [
    {
     "data": {
      "text/plain": [
       "<seaborn.axisgrid.FacetGrid at 0x23cb4a597f0>"
      ]
     },
     "execution_count": 212,
     "metadata": {},
     "output_type": "execute_result"
    }
   ],
   "source": [
    "sns.lmplot(data=result, x='Count Q9',y='Count Q3')"
   ]
  },
  {
   "cell_type": "code",
   "execution_count": 213,
   "id": "4d49a30c-9395-4c76-bd88-8b8091472ef0",
   "metadata": {},
   "outputs": [
    {
     "data": {
      "image/png": "[encoded data removed]",
      "text/plain": [
       "<Figure size 500x500 with 1 Axes>"
      ]
     },
     "metadata": {},
     "output_type": "display_data"
    }
   ],
   "source": [
    "plt.show()"
   ]
  },
  {
   "cell_type": "code",
   "execution_count": 214,
   "id": "3ffac721-a64f-4745-962a-93d0d1809fe6",
   "metadata": {},
   "outputs": [
    {
     "data": {
      "text/html": [
       "<div>\n",
       "<style scoped>\n",
       "    .dataframe tbody tr th:only-of-type {\n",
       "        vertical-align: middle;\n",
       "    }\n",
       "\n",
       "    .dataframe tbody tr th {\n",
       "        vertical-align: top;\n",
       "    }\n",
       "\n",
       "    .dataframe thead th {\n",
       "        text-align: right;\n",
       "    }\n",
       "</style>\n",
       "<table border=\"1\" class=\"dataframe\">\n",
       "  <thead>\n",
       "    <tr style=\"text-align: right;\">\n",
       "      <th></th>\n",
       "      <th>Count Q3</th>\n",
       "      <th>Count Q9</th>\n",
       "    </tr>\n",
       "    <tr>\n",
       "      <th>Satisfaction</th>\n",
       "      <th></th>\n",
       "      <th></th>\n",
       "    </tr>\n",
       "  </thead>\n",
       "  <tbody>\n",
       "    <tr>\n",
       "      <th>Somewhat satisfied</th>\n",
       "      <td>10406</td>\n",
       "      <td>8959</td>\n",
       "    </tr>\n",
       "    <tr>\n",
       "      <th>Extremely satisfied</th>\n",
       "      <td>6386</td>\n",
       "      <td>5125</td>\n",
       "    </tr>\n",
       "    <tr>\n",
       "      <th>Neither satisfied nor unsatisfied</th>\n",
       "      <td>2843</td>\n",
       "      <td>3803</td>\n",
       "    </tr>\n",
       "    <tr>\n",
       "      <th>Somewhat unsatisfied</th>\n",
       "      <td>1504</td>\n",
       "      <td>1087</td>\n",
       "    </tr>\n",
       "    <tr>\n",
       "      <th>Extremely unsatisfied</th>\n",
       "      <td>794</td>\n",
       "      <td>704</td>\n",
       "    </tr>\n",
       "  </tbody>\n",
       "</table>\n",
       "</div>"
      ],
      "text/plain": [
       "                                   Count Q3  Count Q9\n",
       "Satisfaction                                         \n",
       "Somewhat satisfied                    10406      8959\n",
       "Extremely satisfied                    6386      5125\n",
       "Neither satisfied nor unsatisfied      2843      3803\n",
       "Somewhat unsatisfied                   1504      1087\n",
       "Extremely unsatisfied                   794       704"
      ]
     },
     "execution_count": 214,
     "metadata": {},
     "output_type": "execute_result"
    }
   ],
   "source": [
    "result"
   ]
  },
  {
   "cell_type": "code",
   "execution_count": 339,
   "id": "23f786f6-1a42-4d58-86c5-86d9b70a8706",
   "metadata": {},
   "outputs": [
    {
     "data": {
      "text/html": [
       "<div>\n",
       "<style scoped>\n",
       "    .dataframe tbody tr th:only-of-type {\n",
       "        vertical-align: middle;\n",
       "    }\n",
       "\n",
       "    .dataframe tbody tr th {\n",
       "        vertical-align: top;\n",
       "    }\n",
       "\n",
       "    .dataframe thead th {\n",
       "        text-align: right;\n",
       "    }\n",
       "</style>\n",
       "<table border=\"1\" class=\"dataframe\">\n",
       "  <thead>\n",
       "    <tr style=\"text-align: right;\">\n",
       "      <th></th>\n",
       "      <th>Count Q3</th>\n",
       "      <th>Count Q9</th>\n",
       "    </tr>\n",
       "  </thead>\n",
       "  <tbody>\n",
       "    <tr>\n",
       "      <th>Count Q3</th>\n",
       "      <td>1.000000</td>\n",
       "      <td>0.979789</td>\n",
       "    </tr>\n",
       "    <tr>\n",
       "      <th>Count Q9</th>\n",
       "      <td>0.979789</td>\n",
       "      <td>1.000000</td>\n",
       "    </tr>\n",
       "  </tbody>\n",
       "</table>\n",
       "</div>"
      ],
      "text/plain": [
       "          Count Q3  Count Q9\n",
       "Count Q3  1.000000  0.979789\n",
       "Count Q9  0.979789  1.000000"
      ]
     },
     "execution_count": 339,
     "metadata": {},
     "output_type": "execute_result"
    }
   ],
   "source": [
    "result.corr()"
   ]
  },
  {
   "cell_type": "code",
   "execution_count": null,
   "id": "70eed0ef-8721-4112-a3e8-08f5aeef2a69",
   "metadata": {},
   "outputs": [],
   "source": []
  }
 ],
 "metadata": {
  "kernelspec": {
   "display_name": "Python 3 (ipykernel)",
   "language": "python",
   "name": "python3"
  },
  "language_info": {
   "codemirror_mode": {
    "name": "ipython",
    "version": 3
   },
   "file_extension": ".py",
   "mimetype": "text/x-python",
   "name": "python",
   "nbconvert_exporter": "python",
   "pygments_lexer": "ipython3",
   "version": "3.12.4"
  }
 },
 "nbformat": 4,
 "nbformat_minor": 5
}
